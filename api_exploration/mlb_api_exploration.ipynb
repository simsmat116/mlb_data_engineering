{
 "cells": [
  {
   "cell_type": "code",
   "execution_count": 1,
   "metadata": {},
   "outputs": [],
   "source": [
    "import statsapi\n",
    "import pandas as pd\n",
    "import numpy as np"
   ]
  },
  {
   "cell_type": "markdown",
   "metadata": {},
   "source": [
    "<h3>Schedule API</h3>"
   ]
  },
  {
   "cell_type": "code",
   "execution_count": 68,
   "metadata": {},
   "outputs": [],
   "source": [
    "sched = statsapi.schedule(start_date='01/01/2023',end_date='12/31/2024')\n",
    "sched_df = pd.DataFrame(sched)\n",
    "sched_df.to_csv('./test_output/schedule.csv', index=False)"
   ]
  },
  {
   "cell_type": "markdown",
   "metadata": {},
   "source": [
    "<h3>Boxscore API</h3>"
   ]
  },
  {
   "cell_type": "code",
   "execution_count": 67,
   "metadata": {},
   "outputs": [],
   "source": [
    "def get_game_boxscore_stats(game_id):\n",
    "    boxscore = statsapi.boxscore_data(game_id)\n",
    "    batter_stats_df = get_boxscore_game_batters_stats(boxscore)\n",
    "    pitcher_stats_df = get_boxscore_game_pitchers_stats(boxscore)\n",
    "\n",
    "    return batter_stats_df, pitcher_stats_df\n",
    "\n",
    "\n",
    "def get_boxscore_game_pitchers_stats(boxscore_obj):\n",
    "    team_info = get_boxscore_teams(boxscore_obj)\n",
    "\n",
    "    home_pitcher_stats_df = get_boxscore_team_pitcher_stats(boxscore_obj['homePitchers'])\n",
    "    away_pitcher_stats_df = get_boxscore_team_pitcher_stats(boxscore_obj['awayPitchers'])\n",
    "\n",
    "    home_pitcher_stats_df['team_id'] = team_info['home_team_id']\n",
    "    away_pitcher_stats_df['team_id'] = team_info['away_team_id']\n",
    "\n",
    "    if list(home_pitcher_stats_df.columns) != list(away_pitcher_stats_df.columns):\n",
    "        away_pitcher_stats_df = away_pitcher_stats_df[list(home_pitcher_stats_df.columns)]\n",
    "\n",
    "    pitcher_stats_df = pd.concat([home_pitcher_stats_df, away_pitcher_stats_df], ignore_index=True)  \n",
    "    return pitcher_stats_df \n",
    "\n",
    "\n",
    "def get_boxscore_team_pitcher_stats(pitchers_list):\n",
    "    pitchers_column_mapper = {\n",
    "        'ip': 'innings_pitched',\n",
    "        'h': 'hits',\n",
    "        'r': 'runs',\n",
    "        'er': 'earned_runs',\n",
    "        'bb': 'walks',\n",
    "        'k': 'strikeouts',\n",
    "        'hr': 'home_runs',\n",
    "        'era': 'earned_run_average',\n",
    "        'p': 'pitches',\n",
    "        's': 'strikes',\n",
    "        'personId': 'person_id'\n",
    "    }\n",
    "\n",
    "    pitcher_stats_df = pd.DataFrame(pitchers_list)\n",
    "    pitcher_stats_df = pitcher_stats_df.rename(columns=pitchers_column_mapper)\n",
    "    pitcher_stats_df = pitcher_stats_df.drop(columns=['namefield', 'name', 'note'])\n",
    "    return pitcher_stats_df\n",
    "\n",
    "\n",
    "def get_boxscore_game_batters_stats(boxscore_obj):\n",
    "    team_info = get_boxscore_teams(boxscore_obj)\n",
    "\n",
    "    home_batter_stats_df = get_boxscore_team_batter_stats(boxscore_obj['homeBatters'])\n",
    "    away_batter_stats_df = get_boxscore_team_batter_stats(boxscore_obj['awayBatters'])\n",
    "\n",
    "    home_batter_stats_df['team_id'] = team_info['home_team_id']\n",
    "    away_batter_stats_df['team_id'] = team_info['away_team_id']\n",
    "\n",
    "    if list(home_batter_stats_df.columns) != list(away_batter_stats_df.columns):\n",
    "        away_batter_stats_df = away_batter_stats_df[list(home_batter_stats_df.columns)]\n",
    "\n",
    "    batter_stats_df = pd.concat([home_batter_stats_df, away_batter_stats_df], ignore_index=True)  \n",
    "    return batter_stats_df \n",
    "\n",
    "\n",
    "def get_boxscore_team_batter_stats(batters_list):\n",
    "    batters_column_mapper = {\n",
    "        'personId': 'person_id',\n",
    "        'ab': 'at_bats',\n",
    "        'r': 'runs',\n",
    "        'h': 'hits',\n",
    "        'hr': 'home_runs',\n",
    "        'rbi': 'runs_batted_in',\n",
    "        'sb': 'stolen_bases',\n",
    "        'bb': 'walks',\n",
    "        'k': 'strikeouts',\n",
    "        'lob': 'left_on_base',\n",
    "        'avg': 'batting_average',\n",
    "        'ops': 'onbase_plus_slugging',\n",
    "        'obp': 'onbase_percentage',\n",
    "        'slg': 'slugging_percentage',\n",
    "        'battingOrder': 'batting_order'\n",
    "    }\n",
    "\n",
    "    batters_df = pd.DataFrame(batters_list)\n",
    "    batters_df = batters_df.rename(columns=batters_column_mapper)\n",
    "    batters_df = batters_df.query('person_id != 0')\n",
    "    batters_df = batters_df.drop(columns=['namefield', 'note', 'name', 'position'])\n",
    "    return batters_df  \n",
    "\n",
    "\n",
    "def get_boxscore_teams(boxscore_obj):\n",
    "    teams = boxscore_obj['teamInfo']\n",
    "    return {'away_team_id': teams['away']['id'], 'home_team_id': teams['home']['id']}\n"
   ]
  },
  {
   "cell_type": "code",
   "execution_count": 70,
   "metadata": {},
   "outputs": [
    {
     "data": {
      "text/plain": [
       "dict_keys(['gameId', 'teamInfo', 'playerInfo', 'away', 'home', 'awayBatters', 'homeBatters', 'awayBattingTotals', 'homeBattingTotals', 'awayBattingNotes', 'homeBattingNotes', 'awayPitchers', 'homePitchers', 'awayPitchingTotals', 'homePitchingTotals', 'gameBoxInfo'])"
      ]
     },
     "execution_count": 70,
     "metadata": {},
     "output_type": "execute_result"
    }
   ],
   "source": [
    "boxscore = statsapi.boxscore_data(719496)\n",
    "boxscore.keys()"
   ]
  },
  {
   "cell_type": "code",
   "execution_count": 76,
   "metadata": {},
   "outputs": [
    {
     "data": {
      "text/plain": [
       "[{'label': 'WP', 'value': 'Quinlivan, J 2; Morice.'},\n",
       " {'label': 'Groundouts-flyouts',\n",
       "  'value': 'Quinlivan, J 0-1; Harrington 2-3; Jones 1-2; Morice 0-1; Walsh 1-2; Mosqueda 0-2; Feltman 1-1; Broadway 0-0; Shugart 2-0; Olds 1-0; Gomez, R 1-1; Cellucci 2-0.'},\n",
       " {'label': 'Batters faced',\n",
       "  'value': 'Quinlivan, J 7; Harrington 10; Jones 4; Morice 4; Walsh 5; Mosqueda 3; Feltman 3; Broadway 3; Shugart 5; Olds 5; Gomez, R 3; Cellucci 4.'},\n",
       " {'label': 'Inherited runners-scored', 'value': 'Harrington 3-2.'},\n",
       " {'label': 'Umpires',\n",
       "  'value': 'HP: Ben Fernandez. 1B: James Jean. 2B: Justin Juska. 3B: Trevor Mathews. '},\n",
       " {'label': 'Weather', 'value': '85 degrees, Sunny.'},\n",
       " {'label': 'Wind', 'value': '3 mph, L To R.'},\n",
       " {'label': 'First pitch', 'value': '1:06 PM.'},\n",
       " {'label': 'T', 'value': '2:08.'},\n",
       " {'label': 'Att', 'value': '5,922.'},\n",
       " {'label': 'Venue', 'value': 'JetBlue Park.'},\n",
       " {'label': 'February 24, 2023'}]"
      ]
     },
     "execution_count": 76,
     "metadata": {},
     "output_type": "execute_result"
    }
   ],
   "source": [
    "boxscore['gameBoxInfo']"
   ]
  },
  {
   "cell_type": "code",
   "execution_count": 66,
   "metadata": {},
   "outputs": [],
   "source": [
    "all_batter_stats_df = pd.DataFrame()\n",
    "all_pitcher_stats_df = pd.DataFrame()\n",
    "\n",
    "# TO DO: Make this incremental\n",
    "for game_id in list(sched_df['game_id'])[0:5]:\n",
    "    batter_stats_df, pitcher_stats_df = get_game_boxscore_stats(game_id)\n",
    "    batter_stats_df['game_id'] = game_id\n",
    "    pitcher_stats_df['game_id'] = game_id\n",
    "    all_batter_stats_df = pd.concat([all_batter_stats_df, batter_stats_df], ignore_index=True)\n",
    "    all_pitcher_stats_df = pd.concat([all_pitcher_stats_df, pitcher_stats_df], ignore_index=True)\n",
    "\n",
    "\n",
    "all_batter_stats_df.to_csv('./test_output/boxscore_player_batter_stats.csv', index=False)\n",
    "all_pitcher_stats_df.to_csv('./test_output/boxscore_player_pitcher_stats.csv', index=False)"
   ]
  },
  {
   "cell_type": "markdown",
   "metadata": {},
   "source": [
    "<h3>Team API</h3>"
   ]
  },
  {
   "cell_type": "code",
   "execution_count": 77,
   "metadata": {},
   "outputs": [],
   "source": [
    "def extract_field_from_json(json_obj, field_name):\n",
    "    return None if field_name not in json_obj else json_obj[field_name]\n",
    "\n",
    "\n",
    "def parse_json_field(json_obj, json_keys):\n",
    "    # If no dictionary provide in row, return None values\n",
    "    if pd.isna(json_obj):\n",
    "        return pd.Series([None]*len(json_keys))\n",
    "    \n",
    "    value_list = []\n",
    "    for json_key in json_keys:\n",
    "        value_list.append(extract_field_from_json(json_obj, json_key)) \n",
    "\n",
    "    return pd.Series(value_list)\n",
    "\n",
    "\n",
    "# Retrieve team data from API\n",
    "teams = statsapi.get('teams', params={'ver': 'v1'})['teams']\n",
    "teams_df = pd.DataFrame(teams)\n",
    "\n",
    "# Create list of fields that contain dictionaries as values in the form {'id', ... , 'name': ...}\n",
    "# to extract data from\n",
    "dict_fields = ['venue', 'league', 'division', 'sport', 'springLeague', 'springVenue']\n",
    "for field in dict_fields:\n",
    "    id_field_name = f'{field.lower()}_id'\n",
    "    name_field_name = f'{field.lower()}_name'\n",
    "    teams_df[[id_field_name, name_field_name]] = teams_df[field].apply(parse_json_field, json_keys=['id', 'name'])\n",
    "\n",
    "    teams_df.drop(columns=field, inplace=True)\n",
    "\n",
    "# Only extract MLB teams\n",
    "# Sport ID = 1 is the MLB\n",
    "mlb_teams_df = teams_df[teams_df['sport_id'] == 1]\n",
    "\n",
    "mlb_teams_df.to_csv('./test_output/teams.csv', index=False)"
   ]
  },
  {
   "cell_type": "markdown",
   "metadata": {},
   "source": [
    "<h3>Team Rosters API</h3>"
   ]
  },
  {
   "cell_type": "code",
   "execution_count": 78,
   "metadata": {},
   "outputs": [],
   "source": [
    "all_team_rosters_df = pd.DataFrame()\n",
    "\n",
    "for team_id in mlb_teams_df['id'].unique():\n",
    "    team_roster = statsapi.get('team_roster', params={'ver': 'v1', 'teamId': team_id})['roster']\n",
    "    team_roster_df = pd.DataFrame(team_roster)\n",
    "    team_roster_df[['person_id', 'person_name']] = team_roster_df['person'].apply(parse_json_field, json_keys=['id', 'fullName'])\n",
    "    team_roster_df[['position_code', 'position_name', 'position_type', 'position_abbr']] = team_roster_df['position'].apply(parse_json_field, json_keys=['code', 'name', 'type', 'abbreviation'])\n",
    "    team_roster_df[['status_code', 'status_description']] = team_roster_df['status'].apply(parse_json_field, json_keys=['code', 'description'])\n",
    "    team_roster_df.drop(columns=['person', 'position', 'status'], inplace=True)\n",
    "    team_roster_df.rename(columns={'parentTeamId': 'team_id'}, inplace=True)\n",
    "\n",
    "    all_team_rosters_df = pd.concat([all_team_rosters_df, team_roster_df], ignore_index=True)\n",
    "\n",
    "all_team_rosters_df.to_csv('./test_output/team_rosters.csv', index=False)"
   ]
  },
  {
   "cell_type": "code",
   "execution_count": 85,
   "metadata": {},
   "outputs": [
    {
     "data": {
      "text/plain": [
       "Index(['jerseyNumber', 'team_id', 'person_id', 'person_name', 'position_code',\n",
       "       'position_name', 'position_type', 'position_abbr', 'status_code',\n",
       "       'status_description'],\n",
       "      dtype='object')"
      ]
     },
     "execution_count": 85,
     "metadata": {},
     "output_type": "execute_result"
    }
   ],
   "source": [
    "all_team_rosters_df.columns"
   ]
  },
  {
   "cell_type": "markdown",
   "metadata": {},
   "source": [
    "<h3> Player Stats </h3>"
   ]
  },
  {
   "cell_type": "code",
   "execution_count": 109,
   "metadata": {},
   "outputs": [
    {
     "name": "stdout",
     "output_type": "stream",
     "text": [
      "{'type': 'season', 'group': 'fielding', 'season': '2024', 'stats': {'gamesPlayed': 7, 'gamesStarted': 6, 'assists': 0, 'putOuts': 11, 'errors': 0, 'chances': 11, 'fielding': '1.000', 'position': {'code': '9', 'name': 'Outfielder', 'type': 'Outfielder', 'abbreviation': 'RF'}, 'rangeFactorPerGame': '1.57', 'rangeFactorPer9Inn': '1.90', 'innings': '52.0', 'games': 7, 'doublePlays': 0, 'triplePlays': 0, 'throwingErrors': 0}}\n",
      "{'type': 'season', 'group': 'fielding', 'season': '2024', 'stats': {'gamesPlayed': 4, 'gamesStarted': 4, 'assists': 0, 'putOuts': 0, 'errors': 0, 'chances': 0, 'fielding': '.000', 'position': {'code': '10', 'name': 'Designated Hitter', 'type': 'Hitter', 'abbreviation': 'DH'}, 'rangeFactorPerGame': '0.00', 'rangeFactorPer9Inn': '-.--', 'innings': '0.0', 'games': 4, 'doublePlays': 0, 'triplePlays': 0, 'throwingErrors': 0}}\n",
      "{'type': 'season', 'group': 'hitting', 'season': '2024', 'stats': {'gamesPlayed': 11, 'groundOuts': 11, 'airOuts': 5, 'runs': 4, 'doubles': 0, 'triples': 0, 'homeRuns': 1, 'strikeOuts': 15, 'baseOnBalls': 4, 'intentionalWalks': 0, 'hits': 7, 'hitByPitch': 0, 'avg': '.184', 'atBats': 38, 'obp': '.262', 'slg': '.263', 'ops': '.525', 'caughtStealing': 0, 'stolenBases': 0, 'stolenBasePercentage': '.---', 'groundIntoDoublePlay': 1, 'numberOfPitches': 197, 'plateAppearances': 42, 'totalBases': 10, 'rbi': 4, 'leftOnBase': 12, 'sacBunts': 0, 'sacFlies': 0, 'babip': '.273', 'groundOutsToAirouts': '2.20', 'catchersInterference': 0, 'atBatsPerHomeRun': '38.00'}}\n"
     ]
    }
   ],
   "source": [
    "person_info = all_team_rosters_df[['person_id', 'position_type']]\n",
    "statsapi.player_stat_data(543305)\n",
    "\n",
    "def process_stat_list_entry(stat_list_entry):\n",
    "    if not stat_list_entry.get('stats', None):\n",
    "        return None\n",
    "\n",
    "    season = stat_list_entry.get('season', None)\n",
    "    stats = stat_list_entry['stats']\n",
    "    stats['season'] = season\n",
    "\n",
    "    for position_field in ['name', 'type', 'abbreviation']:\n",
    "        stats[f'position_{position_field}'] = stats['position'][position_field]\n",
    "\n",
    "    stats.pop('position')\n",
    "\n",
    "    return stats\n",
    "        \n",
    "\n",
    "\n",
    "player_id = 543305\n",
    "player_stats = statsapi.player_stat_data(player_id)\n",
    "stats = player_stats['stats']\n",
    "\n",
    "for stat in stats:\n",
    "    \n",
    "\n",
    "\n",
    "\n",
    "\n",
    "# Field\n",
    "# gamesStarted\n",
    "# assists\n",
    "# putOuts\n",
    "# errors\n",
    "# fielding\n",
    "# position - json with code, name, type, abbreviation\n",
    "# rangeFactorPerGame\n",
    "# rangeFactorPer9Inn\n",
    "# innings\n",
    "# games\n",
    "# doublePlays\n",
    "# triplePlays\n",
    "# throwingErrors\n",
    "\n",
    "# Hitting\n",
    "# gamesPlayed\n",
    "# groundOuts\n",
    "# airOuts\n",
    "# runs\n",
    "# doubles\n",
    "# triples\n",
    "# homeRuns\n",
    "# strikeOuts\n",
    "# baseOnBalls\n",
    "# intentionalWalks\n",
    "# hits\n",
    "# hitByPitch\n",
    "# avg\n",
    "# atBats\n",
    "# obp\n",
    "# slg\n",
    "# ops\n",
    "# caughtStealing\n",
    "# stoleBases\n",
    "# stoleBasePercentage\n",
    "# groundIntoDoublePlay\n",
    "# numberOfPitches\n",
    "# plateApperances\n",
    "# totalBases\n",
    "# rbi\n",
    "# leftOnBase\n",
    "# sacBunts\n",
    "# sacFlies\n",
    "# babip\n",
    "# groupOutstoAirouts\n",
    "# catchersInterference\n",
    "# atBatsPerHomeRun\n",
    "\n",
    "\n",
    "#  Pitcher - only get pitching stats\n",
    "#  Hitter - only get hitting stats\n",
    "#  Otherwise - get hitting and fielding stats\n"
   ]
  }
 ],
 "metadata": {
  "kernelspec": {
   "display_name": "base",
   "language": "python",
   "name": "python3"
  },
  "language_info": {
   "codemirror_mode": {
    "name": "ipython",
    "version": 3
   },
   "file_extension": ".py",
   "mimetype": "text/x-python",
   "name": "python",
   "nbconvert_exporter": "python",
   "pygments_lexer": "ipython3",
   "version": "3.7.6"
  }
 },
 "nbformat": 4,
 "nbformat_minor": 2
}
