{
 "cells": [
  {
   "cell_type": "code",
   "execution_count": 2,
   "metadata": {},
   "outputs": [],
   "source": [
    "import statsapi\n",
    "import pandas as pd\n",
    "import numpy as np"
   ]
  },
  {
   "cell_type": "markdown",
   "metadata": {},
   "source": [
    "<h3>Schedule API</h3>"
   ]
  },
  {
   "cell_type": "code",
   "execution_count": 94,
   "metadata": {},
   "outputs": [],
   "source": [
    "sched = statsapi.schedule(start_date='01/01/2023',end_date='12/31/2024')\n",
    "sched_df = pd.DataFrame(sched)\n",
    "sched_df.to_csv('./test_output/schedule.csv', index=False)"
   ]
  },
  {
   "cell_type": "markdown",
   "metadata": {},
   "source": [
    "<h3>Team API</h3>"
   ]
  },
  {
   "cell_type": "code",
   "execution_count": 16,
   "metadata": {},
   "outputs": [],
   "source": [
    "def extract_field_from_json(json_obj, field_name):\n",
    "    return None if field_name not in json_obj else json_obj[field_name]\n",
    "\n",
    "\n",
    "def parse_json_field(json_obj, json_keys):\n",
    "    # If no dictionary provide in row, return None values\n",
    "    if pd.isna(json_obj):\n",
    "        return pd.Series([None]*len(json_keys))\n",
    "    \n",
    "    value_list = []\n",
    "    for json_key in json_keys:\n",
    "        value_list.append(extract_field_from_json(json_obj, json_keys)) \n",
    "\n",
    "    return pd.Series(value_list)\n",
    "\n",
    "\n",
    "# Retrieve team data from API\n",
    "teams = statsapi.get('teams', params={'ver': 'v1'})['teams']\n",
    "teams_df = pd.DataFrame(teams)\n",
    "\n",
    "# Create list of fields that contain dictionaries as values in the form {'id', ... , 'name': ...}\n",
    "# to extract data from\n",
    "dict_fields = ['venue', 'league', 'division', 'sport', 'springLeague', 'springVenue']\n",
    "for field in dict_fields:\n",
    "    id_field_name = f'{field.lower()}_id'\n",
    "    name_field_name = f'{field.lower()}_name'\n",
    "    teams_df[[id_field_name, name_field_name]] = teams_df[field].apply(lambda x: parse_json_field(x, ['id', 'name']))\n",
    "\n",
    "    teams_df.drop(columns=field, inplace=True)\n",
    "\n",
    "# Only extract MLB teams\n",
    "# Sport ID = 1 is the MLB\n",
    "mlb_teams_df = teams_df[teams_df['sport_id'] == 1]\n",
    "\n",
    "mlb_teams_df.to_csv('./test_output/teams.csv', index=False)"
   ]
  },
  {
   "cell_type": "code",
   "execution_count": 19,
   "metadata": {},
   "outputs": [],
   "source": [
    "def parse_position_json(position_json):\n",
    "    if pd.isna(position_json):\n",
    "        return pd.Series([None, None, None, None])\n",
    "    \n",
    "    \n",
    "\n",
    "team_roster_df = pd.DataFrame()\n",
    "\n",
    "# for team_id in mlb_teams_df['id'].unique():\n",
    "\n",
    "team_id = mlb_teams_df['id'].iloc[0]\n",
    "team_roster = statsapi.get('team_roster', params={'ver': 'v1', 'teamId': team_id})['roster']\n",
    "team_roster_df = pd.DataFrame(team_roster)\n",
    "team_roster_df[['person_id', 'person_name']] = team_roster_df['person'].apply(lambda x: parse_id_name_json(x))\n",
    "\n"
   ]
  },
  {
   "cell_type": "code",
   "execution_count": 22,
   "metadata": {},
   "outputs": [
    {
     "data": {
      "text/plain": [
       "{'code': '9', 'name': 'Outfielder', 'type': 'Outfielder', 'abbreviation': 'RF'}"
      ]
     },
     "execution_count": 22,
     "metadata": {},
     "output_type": "execute_result"
    }
   ],
   "source": [
    "team_roster_df['position'].iloc[0]"
   ]
  }
 ],
 "metadata": {
  "kernelspec": {
   "display_name": "base",
   "language": "python",
   "name": "python3"
  },
  "language_info": {
   "codemirror_mode": {
    "name": "ipython",
    "version": 3
   },
   "file_extension": ".py",
   "mimetype": "text/x-python",
   "name": "python",
   "nbconvert_exporter": "python",
   "pygments_lexer": "ipython3",
   "version": "3.7.6"
  }
 },
 "nbformat": 4,
 "nbformat_minor": 2
}
