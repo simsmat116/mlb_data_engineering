{
 "cells": [
  {
   "cell_type": "code",
   "execution_count": 76,
   "metadata": {},
   "outputs": [],
   "source": [
    "import statsapi\n",
    "import pandas as pd\n",
    "import numpy as np"
   ]
  },
  {
   "cell_type": "markdown",
   "metadata": {},
   "source": [
    "<h3>Schedule API</h3>"
   ]
  },
  {
   "cell_type": "code",
   "execution_count": 94,
   "metadata": {},
   "outputs": [],
   "source": [
    "sched = statsapi.schedule(start_date='01/01/2023',end_date='12/31/2024')\n",
    "sched_df = pd.DataFrame(sched)\n",
    "sched_df.to_csv('./test_output/schedule.csv', index=False)"
   ]
  },
  {
   "cell_type": "code",
   "execution_count": 14,
   "metadata": {},
   "outputs": [
    {
     "data": {
      "text/plain": [
       "Index(['game_id', 'game_datetime', 'game_date', 'game_type', 'status',\n",
       "       'away_name', 'home_name', 'away_id', 'home_id', 'doubleheader',\n",
       "       'game_num', 'home_probable_pitcher', 'away_probable_pitcher',\n",
       "       'home_pitcher_note', 'away_pitcher_note', 'away_score', 'home_score',\n",
       "       'current_inning', 'inning_state', 'venue_id', 'venue_name',\n",
       "       'national_broadcasts', 'series_status', 'winning_team', 'losing_team',\n",
       "       'winning_pitcher', 'losing_pitcher', 'save_pitcher', 'summary',\n",
       "       'losing_Team'],\n",
       "      dtype='object')"
      ]
     },
     "execution_count": 14,
     "metadata": {},
     "output_type": "execute_result"
    }
   ],
   "source": [
    "sched_df = pd.DataFrame(sched)\n",
    "sched_df.columns"
   ]
  },
  {
   "cell_type": "code",
   "execution_count": 108,
   "metadata": {},
   "outputs": [
    {
     "data": {
      "text/plain": [
       "32"
      ]
     },
     "execution_count": 108,
     "metadata": {},
     "output_type": "execute_result"
    }
   ],
   "source": [
    "len(sched_df['home_id'].unique())"
   ]
  },
  {
   "cell_type": "markdown",
   "metadata": {},
   "source": [
    "<h3>Team API</h3>"
   ]
  },
  {
   "cell_type": "code",
   "execution_count": 104,
   "metadata": {},
   "outputs": [],
   "source": [
    "def parse_json_field(field_dict):\n",
    "    # If no dictionary provide in row, return None values\n",
    "    if pd.isna(field_dict):\n",
    "        return pd.Series([None, None])\n",
    "\n",
    "    # Extract id and name values from dictionary if they exist\n",
    "    id = None if 'id' not in field_dict else field_dict['id']\n",
    "    name = None if 'name' not in field_dict else field_dict['name']\n",
    "    return pd.Series([id, name])\n",
    "\n",
    "# Retrieve team data from API\n",
    "teams = statsapi.get('teams', params={'ver': 'v1'})['teams']\n",
    "teams_df = pd.DataFrame(teams)\n",
    "\n",
    "# Create list of fields that contain dictionaries as values in the form {'id', ... , 'name': ...}\n",
    "# to extract data from\n",
    "dict_fields = ['venue', 'league', 'division', 'sport', 'springLeague', 'springVenue']\n",
    "for field in dict_fields:\n",
    "    id_field_name = f'{field.lower()}_id'\n",
    "    name_field_name = f'{field.lower()}_name'\n",
    "    teams_df[[id_field_name, name_field_name]] = teams_df[field].apply(lambda x: parse_json_field(x))\n",
    "\n",
    "    teams_df.drop(columns=field, inplace=True)\n",
    "\n",
    "# Only extract MLB teams\n",
    "# Sport ID = 1 is the MLB\n",
    "mlb_teams_df = teams_df[teams_df['sport_id'] == 1]\n",
    "\n",
    "teams_df.to_csv('./test_output/teams.csv', index=False)"
   ]
  },
  {
   "cell_type": "code",
   "execution_count": 103,
   "metadata": {},
   "outputs": [
    {
     "data": {
      "text/html": [
       "<div>\n",
       "<style scoped>\n",
       "    .dataframe tbody tr th:only-of-type {\n",
       "        vertical-align: middle;\n",
       "    }\n",
       "\n",
       "    .dataframe tbody tr th {\n",
       "        vertical-align: top;\n",
       "    }\n",
       "\n",
       "    .dataframe thead th {\n",
       "        text-align: right;\n",
       "    }\n",
       "</style>\n",
       "<table border=\"1\" class=\"dataframe\">\n",
       "  <thead>\n",
       "    <tr style=\"text-align: right;\">\n",
       "      <th></th>\n",
       "      <th>allStarStatus</th>\n",
       "      <th>id</th>\n",
       "      <th>name</th>\n",
       "      <th>link</th>\n",
       "      <th>season</th>\n",
       "      <th>teamCode</th>\n",
       "      <th>fileCode</th>\n",
       "      <th>abbreviation</th>\n",
       "      <th>teamName</th>\n",
       "      <th>locationName</th>\n",
       "      <th>...</th>\n",
       "      <th>league_id</th>\n",
       "      <th>league_name</th>\n",
       "      <th>division_id</th>\n",
       "      <th>division_name</th>\n",
       "      <th>sport_id</th>\n",
       "      <th>sport_name</th>\n",
       "      <th>springleague_id</th>\n",
       "      <th>springleague_name</th>\n",
       "      <th>springvenue_id</th>\n",
       "      <th>springvenue_name</th>\n",
       "    </tr>\n",
       "  </thead>\n",
       "  <tbody>\n",
       "    <tr>\n",
       "      <th>32</th>\n",
       "      <td>N</td>\n",
       "      <td>114</td>\n",
       "      <td>Cleveland Guardians</td>\n",
       "      <td>/api/v1/teams/114</td>\n",
       "      <td>2024</td>\n",
       "      <td>cle</td>\n",
       "      <td>cle</td>\n",
       "      <td>CLE</td>\n",
       "      <td>Guardians</td>\n",
       "      <td>Cleveland</td>\n",
       "      <td>...</td>\n",
       "      <td>103.0</td>\n",
       "      <td>American League</td>\n",
       "      <td>202.0</td>\n",
       "      <td>American League Central</td>\n",
       "      <td>1</td>\n",
       "      <td>Major League Baseball</td>\n",
       "      <td>114.0</td>\n",
       "      <td>Cactus League</td>\n",
       "      <td>3834.0</td>\n",
       "      <td>NaN</td>\n",
       "    </tr>\n",
       "    <tr>\n",
       "      <th>176</th>\n",
       "      <td>N</td>\n",
       "      <td>5374</td>\n",
       "      <td>ACL Guardians</td>\n",
       "      <td>/api/v1/teams/5374</td>\n",
       "      <td>2024</td>\n",
       "      <td>acg</td>\n",
       "      <td>t5374</td>\n",
       "      <td>A-GUA</td>\n",
       "      <td>ACL Guardians</td>\n",
       "      <td>Goodyear</td>\n",
       "      <td>...</td>\n",
       "      <td>121.0</td>\n",
       "      <td>Arizona Complex League</td>\n",
       "      <td>570.0</td>\n",
       "      <td>Arizona Complex League Central</td>\n",
       "      <td>16</td>\n",
       "      <td>Rookie</td>\n",
       "      <td>NaN</td>\n",
       "      <td>None</td>\n",
       "      <td>NaN</td>\n",
       "      <td>NaN</td>\n",
       "    </tr>\n",
       "    <tr>\n",
       "      <th>259</th>\n",
       "      <td>N</td>\n",
       "      <td>5506</td>\n",
       "      <td>DSL Guardians Red</td>\n",
       "      <td>/api/v1/teams/5506</td>\n",
       "      <td>2024</td>\n",
       "      <td>dgd</td>\n",
       "      <td>t5506</td>\n",
       "      <td>D-GUR</td>\n",
       "      <td>DSL Guardians Red</td>\n",
       "      <td>United States</td>\n",
       "      <td>...</td>\n",
       "      <td>130.0</td>\n",
       "      <td>Dominican Summer League</td>\n",
       "      <td>247.0</td>\n",
       "      <td>Dominican Summer League North</td>\n",
       "      <td>16</td>\n",
       "      <td>Rookie</td>\n",
       "      <td>NaN</td>\n",
       "      <td>None</td>\n",
       "      <td>NaN</td>\n",
       "      <td>NaN</td>\n",
       "    </tr>\n",
       "    <tr>\n",
       "      <th>498</th>\n",
       "      <td>N</td>\n",
       "      <td>616</td>\n",
       "      <td>DSL Guardians Blue</td>\n",
       "      <td>/api/v1/teams/616</td>\n",
       "      <td>2024</td>\n",
       "      <td>dgu</td>\n",
       "      <td>t616</td>\n",
       "      <td>D-GUB</td>\n",
       "      <td>DSL Guardians Blue</td>\n",
       "      <td>United States</td>\n",
       "      <td>...</td>\n",
       "      <td>130.0</td>\n",
       "      <td>Dominican Summer League</td>\n",
       "      <td>247.0</td>\n",
       "      <td>Dominican Summer League North</td>\n",
       "      <td>16</td>\n",
       "      <td>Rookie</td>\n",
       "      <td>NaN</td>\n",
       "      <td>None</td>\n",
       "      <td>NaN</td>\n",
       "      <td>NaN</td>\n",
       "    </tr>\n",
       "  </tbody>\n",
       "</table>\n",
       "<p>4 rows × 29 columns</p>\n",
       "</div>"
      ],
      "text/plain": [
       "    allStarStatus    id                 name                link  season  \\\n",
       "32              N   114  Cleveland Guardians   /api/v1/teams/114    2024   \n",
       "176             N  5374        ACL Guardians  /api/v1/teams/5374    2024   \n",
       "259             N  5506    DSL Guardians Red  /api/v1/teams/5506    2024   \n",
       "498             N   616   DSL Guardians Blue   /api/v1/teams/616    2024   \n",
       "\n",
       "    teamCode fileCode abbreviation            teamName   locationName  ...  \\\n",
       "32       cle      cle          CLE           Guardians      Cleveland  ...   \n",
       "176      acg    t5374        A-GUA       ACL Guardians       Goodyear  ...   \n",
       "259      dgd    t5506        D-GUR   DSL Guardians Red  United States  ...   \n",
       "498      dgu     t616        D-GUB  DSL Guardians Blue  United States  ...   \n",
       "\n",
       "    league_id              league_name division_id  \\\n",
       "32      103.0          American League       202.0   \n",
       "176     121.0   Arizona Complex League       570.0   \n",
       "259     130.0  Dominican Summer League       247.0   \n",
       "498     130.0  Dominican Summer League       247.0   \n",
       "\n",
       "                      division_name sport_id             sport_name  \\\n",
       "32          American League Central        1  Major League Baseball   \n",
       "176  Arizona Complex League Central       16                 Rookie   \n",
       "259   Dominican Summer League North       16                 Rookie   \n",
       "498   Dominican Summer League North       16                 Rookie   \n",
       "\n",
       "     springleague_id  springleague_name springvenue_id  springvenue_name  \n",
       "32             114.0      Cactus League         3834.0               NaN  \n",
       "176              NaN               None            NaN               NaN  \n",
       "259              NaN               None            NaN               NaN  \n",
       "498              NaN               None            NaN               NaN  \n",
       "\n",
       "[4 rows x 29 columns]"
      ]
     },
     "execution_count": 103,
     "metadata": {},
     "output_type": "execute_result"
    }
   ],
   "source": []
  }
 ],
 "metadata": {
  "kernelspec": {
   "display_name": "base",
   "language": "python",
   "name": "python3"
  },
  "language_info": {
   "codemirror_mode": {
    "name": "ipython",
    "version": 3
   },
   "file_extension": ".py",
   "mimetype": "text/x-python",
   "name": "python",
   "nbconvert_exporter": "python",
   "pygments_lexer": "ipython3",
   "version": "3.7.6"
  }
 },
 "nbformat": 4,
 "nbformat_minor": 2
}
